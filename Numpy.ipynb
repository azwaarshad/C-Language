{
 "cells": [
  {
   "cell_type": "markdown",
   "id": "3ee54b42-b612-4e6b-a6a1-24ddf2898510",
   "metadata": {},
   "source": [
    "# NUMPY"
   ]
  },
  {
   "cell_type": "markdown",
   "id": "f9e7e3c1-f841-4505-9f42-8094a450d9b7",
   "metadata": {},
   "source": [
    "## Exercise 1"
   ]
  },
  {
   "cell_type": "code",
   "execution_count": 2,
   "id": "6a86ef20-281a-403a-9f8f-9893677da1b9",
   "metadata": {},
   "outputs": [
    {
     "name": "stdout",
     "output_type": "stream",
     "text": [
      "Requirement already satisfied: numpy in c:\\users\\azwa arshad\\anaconda3\\lib\\site-packages (1.26.4)\n",
      "Note: you may need to restart the kernel to use updated packages.\n"
     ]
    }
   ],
   "source": [
    "pip install numpy"
   ]
  },
  {
   "cell_type": "code",
   "execution_count": 4,
   "id": "a2af7d71-acae-41f6-8e24-f844fc9542b6",
   "metadata": {},
   "outputs": [],
   "source": [
    "import numpy as np"
   ]
  },
  {
   "cell_type": "code",
   "execution_count": 12,
   "id": "d96420fa-efd5-419e-809f-045817cbf9ae",
   "metadata": {},
   "outputs": [
    {
     "name": "stdout",
     "output_type": "stream",
     "text": [
      "NumPy version: 1.26.4\n"
     ]
    }
   ],
   "source": [
    "print(\"NumPy version:\", np.__version__)"
   ]
  },
  {
   "cell_type": "markdown",
   "id": "75007db5-06d0-40d1-b6b2-15feb1c67681",
   "metadata": {},
   "source": [
    "## Homework 1"
   ]
  },
  {
   "cell_type": "markdown",
   "id": "fbf84379-9d1d-4e7e-8afc-f0a53646d41d",
   "metadata": {},
   "source": [
    "### Research and explain the difference between NumPy arrays and Python lists.\n",
    "\n",
    "Performance: NumPy arrays are faster and consume less memory than Python lists due to efficient memory storage and vectorized operations.\n",
    "\n",
    "Functionality: NumPy provides advanced mathematical operations, broadcasting, and multi-dimensional array handling, which lists lack.\n",
    "\n",
    "Type Consistency: NumPy arrays store elements of the same type, whereas lists can contain mixed data types."
   ]
  },
  {
   "cell_type": "markdown",
   "id": "6db23d4d-74ce-4eae-b237-36be9bc1cc27",
   "metadata": {},
   "source": [
    "### Write a script that checks if NumPy is installed and prints an appropriate message."
   ]
  },
  {
   "cell_type": "code",
   "execution_count": 59,
   "id": "407005de-22cd-439a-a29f-f0de9229676c",
   "metadata": {},
   "outputs": [
    {
     "name": "stdout",
     "output_type": "stream",
     "text": [
      "NumPy is installed.\n"
     ]
    }
   ],
   "source": [
    "try:\n",
    "    import numpy as np\n",
    "    print(\"NumPy is installed.\")\n",
    "except ImportError:\n",
    "    print(\"NumPy is not installed. Install it using 'pip install numpy'.\")"
   ]
  },
  {
   "cell_type": "markdown",
   "id": "af3df6d2-22ab-4d53-93ed-e5cc3b05d928",
   "metadata": {},
   "source": [
    "## Creating Numpy Arrays"
   ]
  },
  {
   "cell_type": "code",
   "execution_count": 16,
   "id": "85ada054-ea06-4c7b-82a2-e393e3861245",
   "metadata": {},
   "outputs": [
    {
     "name": "stdout",
     "output_type": "stream",
     "text": [
      "[1 2 3 4 5]\n"
     ]
    }
   ],
   "source": [
    "arr = np.array([1, 2, 3, 4, 5])\n",
    "print(arr)"
   ]
  },
  {
   "cell_type": "code",
   "execution_count": 24,
   "id": "84596f7e-ffcb-47a2-bd4e-ef1bbe74946c",
   "metadata": {},
   "outputs": [
    {
     "data": {
      "text/plain": [
       "array([[0., 0., 0.],\n",
       "       [0., 0., 0.],\n",
       "       [0., 0., 0.]])"
      ]
     },
     "execution_count": 24,
     "metadata": {},
     "output_type": "execute_result"
    }
   ],
   "source": [
    "np.zeros((3,3))      "
   ]
  },
  {
   "cell_type": "code",
   "execution_count": 20,
   "id": "3354f0ad-a715-4c5b-be8c-c28557784021",
   "metadata": {},
   "outputs": [
    {
     "data": {
      "text/plain": [
       "array([[1., 1.],\n",
       "       [1., 1.]])"
      ]
     },
     "execution_count": 20,
     "metadata": {},
     "output_type": "execute_result"
    }
   ],
   "source": [
    "np.ones((2,2))       "
   ]
  },
  {
   "cell_type": "code",
   "execution_count": 22,
   "id": "89a46294-df34-48de-96e8-00a68ac65b52",
   "metadata": {},
   "outputs": [
    {
     "data": {
      "text/plain": [
       "array([0, 2, 4, 6, 8])"
      ]
     },
     "execution_count": 22,
     "metadata": {},
     "output_type": "execute_result"
    }
   ],
   "source": [
    "np.arange(0,10,2)   "
   ]
  },
  {
   "cell_type": "code",
   "execution_count": 26,
   "id": "d2f0253b-2042-4544-aa04-cc3c72ce960a",
   "metadata": {},
   "outputs": [
    {
     "data": {
      "text/plain": [
       "array([ 0. ,  2.5,  5. ,  7.5, 10. ])"
      ]
     },
     "execution_count": 26,
     "metadata": {},
     "output_type": "execute_result"
    }
   ],
   "source": [
    "np.linspace(0,10,5)  "
   ]
  },
  {
   "cell_type": "markdown",
   "id": "8c620f5c-af01-4e4c-b774-9937eeead646",
   "metadata": {},
   "source": [
    "## Exercise 2"
   ]
  },
  {
   "cell_type": "markdown",
   "id": "a6c4feaf-a16d-4573-814a-5430cc20ee22",
   "metadata": {},
   "source": [
    "### 1. Create a 1D NumPy array with values from 10 to 50."
   ]
  },
  {
   "cell_type": "code",
   "execution_count": 37,
   "id": "e4f62340-402d-4f01-805a-d37537eb9b1a",
   "metadata": {},
   "outputs": [
    {
     "name": "stdout",
     "output_type": "stream",
     "text": [
      "1D Array: [10 11 12 13 14 15 16 17 18 19 20 21 22 23 24 25 26 27 28 29 30 31 32 33\n",
      " 34 35 36 37 38 39 40 41 42 43 44 45 46 47 48 49 50]\n"
     ]
    }
   ],
   "source": [
    "array_1d = np.arange(10, 51)\n",
    "print(\"1D Array:\", array_1d)"
   ]
  },
  {
   "cell_type": "markdown",
   "id": "7432eb5b-29c8-416a-892a-f0771b4d5854",
   "metadata": {},
   "source": [
    "### 2. Create a 4x4 array filled with random values."
   ]
  },
  {
   "cell_type": "code",
   "execution_count": 39,
   "id": "5244493c-af51-4cba-aeea-8f05bc5a740e",
   "metadata": {},
   "outputs": [
    {
     "name": "stdout",
     "output_type": "stream",
     "text": [
      "\n",
      "4x4 Random Array:\n",
      " [[0.62645466 0.63529705 0.94216758 0.76723188]\n",
      " [0.585634   0.43343963 0.73233222 0.35385672]\n",
      " [0.1598286  0.22737937 0.10288698 0.5136041 ]\n",
      " [0.41916709 0.88558878 0.33538456 0.44673688]]\n"
     ]
    }
   ],
   "source": [
    "array_4x4 = np.random.rand(4, 4)\n",
    "print(\"\\n4x4 Random Array:\\n\", array_4x4)"
   ]
  },
  {
   "cell_type": "markdown",
   "id": "6e3f6e1f-a9ac-4ee7-a619-04ab5524e600",
   "metadata": {},
   "source": [
    "### 3. Generate an array with 15 values evenly spaced between 1 and 100."
   ]
  },
  {
   "cell_type": "code",
   "execution_count": 41,
   "id": "3e6ae4fe-7a6d-48e7-a78b-9d707be8be33",
   "metadata": {},
   "outputs": [
    {
     "name": "stdout",
     "output_type": "stream",
     "text": [
      "\n",
      "Evenly Spaced Array: [  1.           8.07142857  15.14285714  22.21428571  29.28571429\n",
      "  36.35714286  43.42857143  50.5         57.57142857  64.64285714\n",
      "  71.71428571  78.78571429  85.85714286  92.92857143 100.        ]\n"
     ]
    }
   ],
   "source": [
    "array_spaced = np.linspace(1, 100, 15)\n",
    "print(\"\\nEvenly Spaced Array:\", array_spaced)"
   ]
  },
  {
   "cell_type": "markdown",
   "id": "bfcbe32c-852a-41da-b08d-7bd6946c22d5",
   "metadata": {},
   "source": [
    "## Homework 2"
   ]
  },
  {
   "cell_type": "markdown",
   "id": "e7efd5e1-929a-41fc-ae16-60f4e42d1782",
   "metadata": {},
   "source": [
    "### Write a Python function that creates a NumPy array of size n filled with random integers."
   ]
  },
  {
   "cell_type": "code",
   "execution_count": 48,
   "id": "0bc795fd-f0fd-4cf0-911b-c6ce6c70a53b",
   "metadata": {},
   "outputs": [
    {
     "name": "stdout",
     "output_type": "stream",
     "text": [
      "Random Integer Array: [ 8 41 51 17 97 77 70 95 66 27]\n"
     ]
    }
   ],
   "source": [
    "def random_integer_array(n, low=0, high=100):\n",
    "    return np.random.randint(low, high, size=n)\n",
    "\n",
    "random_array = random_integer_array(10)  # Generating an array of 10 random integers\n",
    "print(\"Random Integer Array:\", random_array)"
   ]
  },
  {
   "cell_type": "markdown",
   "id": "f199cbfd-402b-4908-8ddb-c5d115dacff1",
   "metadata": {},
   "source": [
    "### Implement a script that generates a 5x5 identity matrix using NumPy."
   ]
  },
  {
   "cell_type": "code",
   "execution_count": 50,
   "id": "0054957d-0c2b-47c3-a931-706e001814d2",
   "metadata": {},
   "outputs": [
    {
     "name": "stdout",
     "output_type": "stream",
     "text": [
      "\n",
      "5x5 Identity Matrix:\n",
      " [[1. 0. 0. 0. 0.]\n",
      " [0. 1. 0. 0. 0.]\n",
      " [0. 0. 1. 0. 0.]\n",
      " [0. 0. 0. 1. 0.]\n",
      " [0. 0. 0. 0. 1.]]\n"
     ]
    }
   ],
   "source": [
    "identity_matrix = np.eye(5)\n",
    "print(\"\\n5x5 Identity Matrix:\\n\", identity_matrix)"
   ]
  },
  {
   "cell_type": "markdown",
   "id": "7b02b6f2-cad8-4fa8-87d0-5622b9e1be10",
   "metadata": {},
   "source": [
    "## Accessing Elements"
   ]
  },
  {
   "cell_type": "code",
   "execution_count": 62,
   "id": "e20641a3-ede4-4572-9fc1-07da49b012ba",
   "metadata": {},
   "outputs": [
    {
     "name": "stdout",
     "output_type": "stream",
     "text": [
      "10\n",
      "50\n"
     ]
    }
   ],
   "source": [
    "arr = np.array([10, 20, 30, 40, 50])\n",
    "print(arr[0])   # First element\n",
    "print(arr[-1])  # Last element"
   ]
  },
  {
   "cell_type": "markdown",
   "id": "0d12cf7e-0952-4c30-9db1-79bb9c27341e",
   "metadata": {},
   "source": [
    "## Slicing"
   ]
  },
  {
   "cell_type": "code",
   "execution_count": 64,
   "id": "9cfdb7d0-2a00-4024-86f8-5e256426a54f",
   "metadata": {},
   "outputs": [
    {
     "name": "stdout",
     "output_type": "stream",
     "text": [
      "[10 20 30]\n"
     ]
    }
   ],
   "source": [
    "arr = np.array([0, 10, 20, 30, 40, 50])\n",
    "print(arr[1:4])  # Elements from index 1 to 3"
   ]
  },
  {
   "cell_type": "markdown",
   "id": "6f985f74-d26b-4c12-8320-9a50e9c16c0c",
   "metadata": {},
   "source": [
    "## Exercise 3"
   ]
  },
  {
   "cell_type": "markdown",
   "id": "d5839552-908b-4850-b7a0-b4f508c0cfcd",
   "metadata": {},
   "source": [
    "### Create a 5x5 matrix of integers from 1 to 25 and extract: \n",
    "### The first row\n",
    "### The last column\n",
    "### A 3x3 sub-matrix from the center\n"
   ]
  },
  {
   "cell_type": "code",
   "execution_count": 75,
   "id": "63307b5c-93f4-4be9-9eab-42f9b9d81eba",
   "metadata": {},
   "outputs": [
    {
     "name": "stdout",
     "output_type": "stream",
     "text": [
      "5x5 Matrix:\n",
      " [[ 1  2  3  4  5]\n",
      " [ 6  7  8  9 10]\n",
      " [11 12 13 14 15]\n",
      " [16 17 18 19 20]\n",
      " [21 22 23 24 25]]\n",
      "\n",
      "First Row: [1 2 3 4 5]\n",
      "\n",
      "Last Column:\n",
      " [ 5 10 15 20 25]\n",
      "\n",
      "3x3 Center Sub-matrix:\n",
      " [[ 7  8  9]\n",
      " [12 13 14]\n",
      " [17 18 19]]\n"
     ]
    }
   ],
   "source": [
    "matrix = np.arange(1, 26).reshape(5, 5)\n",
    "\n",
    "first_row = matrix[0, :]\n",
    "\n",
    "last_column = matrix[:, -1]\n",
    "\n",
    "center_submatrix = matrix[1:4, 1:4]\n",
    "\n",
    "print(\"5x5 Matrix:\\n\", matrix)\n",
    "print(\"\\nFirst Row:\", first_row)\n",
    "print(\"\\nLast Column:\\n\", last_column)\n",
    "print(\"\\n3x3 Center Sub-matrix:\\n\", center_submatrix)"
   ]
  },
  {
   "cell_type": "markdown",
   "id": "b891e730-77c3-4617-b7ae-dad439283987",
   "metadata": {},
   "source": [
    "## Homework 3"
   ]
  },
  {
   "cell_type": "markdown",
   "id": "3d365e29-87d4-4127-9ca0-f8cc31011d7e",
   "metadata": {},
   "source": [
    "### Implement a script that reverses a NumPy array."
   ]
  },
  {
   "cell_type": "code",
   "execution_count": 81,
   "id": "fc78cdfc-fd19-4653-9990-dd50fba67803",
   "metadata": {},
   "outputs": [
    {
     "name": "stdout",
     "output_type": "stream",
     "text": [
      "Original Array: [ 1  2  3  4  5  6  7  8  9 10]\n",
      "Reversed Array: [10  9  8  7  6  5  4  3  2  1]\n"
     ]
    }
   ],
   "source": [
    "def reverse_array(arr):\n",
    "    return arr[::-1]\n",
    "    \n",
    "array = np.array([1, 2, 3, 4, 5, 6, 7, 8, 9, 10])\n",
    "reversed_array = reverse_array(array)\n",
    "\n",
    "print(\"Original Array:\", array)\n",
    "print(\"Reversed Array:\", reversed_array)"
   ]
  },
  {
   "cell_type": "markdown",
   "id": "9dde46d3-3c2c-4aaa-a9c5-bba7466adc88",
   "metadata": {},
   "source": [
    "### Write a Python function that extracts every alternate element from a NumPy array."
   ]
  },
  {
   "cell_type": "code",
   "execution_count": 83,
   "id": "9ff191fd-acb1-411b-90a1-c0985949df67",
   "metadata": {},
   "outputs": [
    {
     "name": "stdout",
     "output_type": "stream",
     "text": [
      "Alternate Elements: [1 3 5 7 9]\n"
     ]
    }
   ],
   "source": [
    "def alternate_elements(arr):\n",
    "    return arr[::2]\n",
    "\n",
    "array = np.array([1, 2, 3, 4, 5, 6, 7, 8, 9, 10])\n",
    "alternate_array = alternate_elements(array)\n",
    "\n",
    "print(\"Alternate Elements:\", alternate_array)"
   ]
  },
  {
   "cell_type": "markdown",
   "id": "6a9a9708-353d-4bad-b1d1-cbf623275035",
   "metadata": {},
   "source": [
    "## Reshaping"
   ]
  },
  {
   "cell_type": "code",
   "execution_count": 86,
   "id": "beb422ff-5bac-4934-a64d-25fc8d22dd5b",
   "metadata": {},
   "outputs": [
    {
     "name": "stdout",
     "output_type": "stream",
     "text": [
      "[[1 2 3]\n",
      " [4 5 6]\n",
      " [7 8 9]]\n"
     ]
    }
   ],
   "source": [
    "arr = np.arange(1, 10)\n",
    "reshaped = arr.reshape(3, 3)\n",
    "print(reshaped)"
   ]
  },
  {
   "cell_type": "markdown",
   "id": "0ba9c8a0-9c75-46f3-8dc4-77cdcf7728bb",
   "metadata": {},
   "source": [
    "## Concatenation"
   ]
  },
  {
   "cell_type": "code",
   "execution_count": 91,
   "id": "4c90e6a9-b461-4c2e-a005-81bc0738dbe3",
   "metadata": {},
   "outputs": [
    {
     "data": {
      "text/plain": [
       "array([[1, 2, 5],\n",
       "       [3, 4, 6]])"
      ]
     },
     "execution_count": 91,
     "metadata": {},
     "output_type": "execute_result"
    }
   ],
   "source": [
    "arr1 = np.array([[1, 2], [3, 4]])\n",
    "arr2 = np.array([[5, 6]])\n",
    "np.vstack((arr1, arr2))   # Vertical stack\n",
    "np.hstack((arr1, arr2.T)) # Horizontal stack"
   ]
  },
  {
   "cell_type": "markdown",
   "id": "79b477c7-6e94-4f1f-90f3-cfe3e2174496",
   "metadata": {},
   "source": [
    "## Exercise 4"
   ]
  },
  {
   "cell_type": "markdown",
   "id": "075404e9-939c-4520-8d71-c072b84505c4",
   "metadata": {},
   "source": [
    "### 1. Create a 6x6 matrix and reshape it into a 3D array of shape (3,2,2)."
   ]
  },
  {
   "cell_type": "code",
   "execution_count": 106,
   "id": "acd5a5dd-8aee-4142-8850-9dd6ae96726b",
   "metadata": {},
   "outputs": [
    {
     "name": "stdout",
     "output_type": "stream",
     "text": [
      "6x6 Matrix:\n",
      " [[ 1  2  3  4  5  6]\n",
      " [ 7  8  9 10 11 12]\n",
      " [13 14 15 16 17 18]\n",
      " [19 20 21 22 23 24]\n",
      " [25 26 27 28 29 30]\n",
      " [31 32 33 34 35 36]]\n",
      "\n",
      "Reshaped 3D Array (3,2,6):\n",
      " [[[ 1  2  3  4  5  6]\n",
      "  [ 7  8  9 10 11 12]]\n",
      "\n",
      " [[13 14 15 16 17 18]\n",
      "  [19 20 21 22 23 24]]\n",
      "\n",
      " [[25 26 27 28 29 30]\n",
      "  [31 32 33 34 35 36]]]\n"
     ]
    }
   ],
   "source": [
    "matrix_6x6 = np.arange(1, 37).reshape(6, 6)\n",
    "\n",
    "reshaped_3d = matrix_6x6.reshape(3, 2, 6)\n",
    "\n",
    "print(\"6x6 Matrix:\\n\", matrix_6x6)\n",
    "print(\"\\nReshaped 3D Array (3,2,6):\\n\", reshaped_3d)"
   ]
  },
  {
   "cell_type": "markdown",
   "id": "cb62ca69-8ddb-4569-a1c4-7787f2eba0a7",
   "metadata": {},
   "source": [
    "### 2. Concatenate two arrays horizontally and vertically."
   ]
  },
  {
   "cell_type": "code",
   "execution_count": 108,
   "id": "dd8c00ee-b1b4-4e11-8986-37f37593983b",
   "metadata": {},
   "outputs": [
    {
     "name": "stdout",
     "output_type": "stream",
     "text": [
      "Horizontally Concatenated Array:\n",
      " [[1 2 5 6]\n",
      " [3 4 7 8]]\n",
      "\n",
      "Vertically Concatenated Array:\n",
      " [[1 2]\n",
      " [3 4]\n",
      " [5 6]\n",
      " [7 8]]\n"
     ]
    }
   ],
   "source": [
    "array1 = np.array([[1, 2], [3, 4]])\n",
    "array2 = np.array([[5, 6], [7, 8]])\n",
    "\n",
    "horizontal_concat = np.hstack((array1, array2))\n",
    "\n",
    "print(\"Horizontally Concatenated Array:\\n\", horizontal_concat)\n",
    "\n",
    "array1 = np.array([[1, 2], [3, 4]])\n",
    "array2 = np.array([[5, 6], [7, 8]])\n",
    "\n",
    "vertical_concat = np.vstack((array1, array2))\n",
    "\n",
    "print(\"\\nVertically Concatenated Array:\\n\", vertical_concat)"
   ]
  },
  {
   "cell_type": "markdown",
   "id": "0c1cc04e-77a8-45c7-a547-b5ff2b7ad651",
   "metadata": {},
   "source": [
    "## Homework 4"
   ]
  },
  {
   "cell_type": "markdown",
   "id": "de4b5012-950e-46f1-acc3-830ebcd01a1b",
   "metadata": {},
   "source": [
    "### Write a function that reshapes a given NumPy array into a square matrix if possible."
   ]
  },
  {
   "cell_type": "code",
   "execution_count": 110,
   "id": "8b3caefb-2f1a-4c6a-b378-a44a7668e74a",
   "metadata": {},
   "outputs": [
    {
     "name": "stdout",
     "output_type": "stream",
     "text": [
      "Reshaped Square Matrix:\n",
      " [[1 2 3]\n",
      " [4 5 6]\n",
      " [7 8 9]]\n"
     ]
    }
   ],
   "source": [
    "def reshape_to_square(arr):\n",
    "    size = arr.size\n",
    "    sqrt_size = int(np.sqrt(size))  # Calculate square root\n",
    "    if sqrt_size ** 2 == size:  # Check if it's a perfect square\n",
    "        return arr.reshape(sqrt_size, sqrt_size)\n",
    "    else:\n",
    "        raise ValueError(\"Array cannot be reshaped into a square matrix.\")\n",
    "\n",
    "array = np.array([1, 2, 3, 4, 5, 6, 7, 8, 9])\n",
    "\n",
    "try:\n",
    "    square_matrix = reshape_to_square(array)\n",
    "    print(\"Reshaped Square Matrix:\\n\", square_matrix)\n",
    "except ValueError as e:\n",
    "    print(e)"
   ]
  },
  {
   "cell_type": "markdown",
   "id": "d0296862-99fc-4ba1-9480-a87b62b30b66",
   "metadata": {},
   "source": [
    "### Implement a script that joins two arrays along both axes and prints the result."
   ]
  },
  {
   "cell_type": "code",
   "execution_count": 112,
   "id": "b254693c-f7e6-4b51-9ad2-76d7a8912cf2",
   "metadata": {},
   "outputs": [
    {
     "name": "stdout",
     "output_type": "stream",
     "text": [
      "Horizontally Joined Array:\n",
      " [[1 2 5 6]\n",
      " [3 4 7 8]]\n",
      "\n",
      "Vertically Joined Array:\n",
      " [[1 2]\n",
      " [3 4]\n",
      " [5 6]\n",
      " [7 8]]\n"
     ]
    }
   ],
   "source": [
    "array1 = np.array([[1, 2], [3, 4]])\n",
    "array2 = np.array([[5, 6], [7, 8]])\n",
    "\n",
    "horizontal_join = np.hstack((array1, array2))  # Horizontal join (column-wise)\n",
    "vertical_join = np.vstack((array1, array2))    # Vertical join (row-wise)\n",
    "\n",
    "print(\"Horizontally Joined Array:\\n\", horizontal_join)\n",
    "print(\"\\nVertically Joined Array:\\n\", vertical_join)"
   ]
  },
  {
   "cell_type": "markdown",
   "id": "97c52422-3def-4530-85a7-eeae2f6dc651",
   "metadata": {},
   "source": [
    "## Mathematical Operations"
   ]
  },
  {
   "cell_type": "code",
   "execution_count": 115,
   "id": "0abcfc38-b2ce-4e34-b774-e6659ad1ee14",
   "metadata": {},
   "outputs": [
    {
     "name": "stdout",
     "output_type": "stream",
     "text": [
      "[6 7 8 9]\n",
      "[2 4 6 8]\n"
     ]
    }
   ],
   "source": [
    "arr = np.array([1, 2, 3, 4])\n",
    "print(arr + 5)  # Adds 5 to each element\n",
    "print(arr * 2)  # Multiplies each element by 2"
   ]
  },
  {
   "cell_type": "markdown",
   "id": "1d46114c-bfbd-4cc3-a670-2e7d1fe0181d",
   "metadata": {},
   "source": [
    "## Aggregation Functions"
   ]
  },
  {
   "cell_type": "code",
   "execution_count": 118,
   "id": "30be96e6-01a5-43cc-908d-351987bbc56c",
   "metadata": {},
   "outputs": [
    {
     "name": "stdout",
     "output_type": "stream",
     "text": [
      "50\n",
      "12.5\n",
      "20\n"
     ]
    }
   ],
   "source": [
    "arr = np.array([5, 10, 15, 20])\n",
    "print(arr.sum())  # Sum of all elements\n",
    "print(arr.mean()) # Mean value\n",
    "print(arr.max())  # Maximum value"
   ]
  },
  {
   "cell_type": "markdown",
   "id": "70b985a1-c47e-4e2e-8cc4-a0e85e6b08f1",
   "metadata": {},
   "source": [
    "## Exercise 5"
   ]
  },
  {
   "cell_type": "markdown",
   "id": "c256cfc8-4ec9-4355-a786-048ef3043b25",
   "metadata": {},
   "source": [
    "### 1. Compute the sum, mean, max, and min of a 1D NumPy array."
   ]
  },
  {
   "cell_type": "code",
   "execution_count": 124,
   "id": "240260fd-8b80-40e3-8bb9-dd99834826df",
   "metadata": {},
   "outputs": [
    {
     "name": "stdout",
     "output_type": "stream",
     "text": [
      "Array: [10 20 30 40 50]\n",
      "Sum: 150\n",
      "Mean: 30.0\n",
      "Max: 50\n",
      "Min: 10\n"
     ]
    }
   ],
   "source": [
    "array = np.array([10, 20, 30, 40, 50])\n",
    "\n",
    "array_sum = np.sum(array)\n",
    "array_mean = np.mean(array)\n",
    "array_max = np.max(array)\n",
    "array_min = np.min(array)\n",
    "\n",
    "print(\"Array:\", array)\n",
    "print(\"Sum:\", array_sum)\n",
    "print(\"Mean:\", array_mean)\n",
    "print(\"Max:\", array_max)\n",
    "print(\"Min:\", array_min)"
   ]
  },
  {
   "cell_type": "markdown",
   "id": "0c30dba8-88dd-4c98-853d-1270af5de15c",
   "metadata": {},
   "source": [
    "### 2. Multiply two matrices using NumPy."
   ]
  },
  {
   "cell_type": "code",
   "execution_count": 126,
   "id": "23f96462-8118-4104-8afb-28e78cd8d665",
   "metadata": {},
   "outputs": [
    {
     "name": "stdout",
     "output_type": "stream",
     "text": [
      "Matrix 1:\n",
      " [[1 2]\n",
      " [3 4]]\n",
      "\n",
      "Matrix 2:\n",
      " [[5 6]\n",
      " [7 8]]\n",
      "\n",
      "Resultant Matrix (Multiplication):\n",
      " [[19 22]\n",
      " [43 50]]\n"
     ]
    }
   ],
   "source": [
    "matrix1 = np.array([[1, 2], [3, 4]])\n",
    "matrix2 = np.array([[5, 6], [7, 8]])\n",
    "\n",
    "result_matrix = np.dot(matrix1, matrix2)\n",
    "\n",
    "print(\"Matrix 1:\\n\", matrix1)\n",
    "print(\"\\nMatrix 2:\\n\", matrix2)\n",
    "print(\"\\nResultant Matrix (Multiplication):\\n\", result_matrix)"
   ]
  },
  {
   "cell_type": "markdown",
   "id": "4e6e7c93-8265-404a-92e4-a8cc6cb3b43f",
   "metadata": {},
   "source": [
    "## Homework 5"
   ]
  },
  {
   "cell_type": "markdown",
   "id": "9e4de0c3-8885-49e8-90c0-daa344374fe0",
   "metadata": {},
   "source": [
    "### Write a function that normalizes a NumPy array (scales values between 0 and 1)."
   ]
  },
  {
   "cell_type": "code",
   "execution_count": 132,
   "id": "96b96893-b454-43af-8236-6ca3cfb682ab",
   "metadata": {},
   "outputs": [
    {
     "name": "stdout",
     "output_type": "stream",
     "text": [
      "Original Array: [10 20 30 40 50]\n",
      "Normalized Array: [0.   0.25 0.5  0.75 1.  ]\n"
     ]
    }
   ],
   "source": [
    "def normalize_array(arr):\n",
    "    min_val = np.min(arr)\n",
    "    max_val = np.max(arr)\n",
    "    return (arr - min_val) / (max_val - min_val) if max_val != min_val else arr\n",
    "\n",
    "array = np.array([10, 20, 30, 40, 50])\n",
    "normalized_array = normalize_array(array)\n",
    "\n",
    "print(\"Original Array:\", array)\n",
    "print(\"Normalized Array:\", normalized_array)"
   ]
  },
  {
   "cell_type": "markdown",
   "id": "2f2a7cc0-f11a-4ff7-8180-cb670f04ac05",
   "metadata": {},
   "source": [
    "### Implement a script that calculates the dot product and cross product of two vectors."
   ]
  },
  {
   "cell_type": "code",
   "execution_count": 134,
   "id": "94e986a3-839d-4c8c-ad4b-2d9676901188",
   "metadata": {},
   "outputs": [
    {
     "name": "stdout",
     "output_type": "stream",
     "text": [
      "Vector 1: [1 2 3]\n",
      "Vector 2: [4 5 6]\n",
      "Dot Product: 32\n",
      "Cross Product: [-3  6 -3]\n"
     ]
    }
   ],
   "source": [
    "vector1 = np.array([1, 2, 3])\n",
    "vector2 = np.array([4, 5, 6])\n",
    "\n",
    "dot_product = np.dot(vector1, vector2)\n",
    "\n",
    "cross_product = np.cross(vector1, vector2)\n",
    "\n",
    "print(\"Vector 1:\", vector1)\n",
    "print(\"Vector 2:\", vector2)\n",
    "print(\"Dot Product:\", dot_product)\n",
    "print(\"Cross Product:\", cross_product)"
   ]
  },
  {
   "cell_type": "code",
   "execution_count": null,
   "id": "41cda178-1649-49f7-9408-1b96fe0c31fd",
   "metadata": {},
   "outputs": [],
   "source": []
  }
 ],
 "metadata": {
  "kernelspec": {
   "display_name": "Python 3 (ipykernel)",
   "language": "python",
   "name": "python3"
  },
  "language_info": {
   "codemirror_mode": {
    "name": "ipython",
    "version": 3
   },
   "file_extension": ".py",
   "mimetype": "text/x-python",
   "name": "python",
   "nbconvert_exporter": "python",
   "pygments_lexer": "ipython3",
   "version": "3.12.4"
  }
 },
 "nbformat": 4,
 "nbformat_minor": 5
}
