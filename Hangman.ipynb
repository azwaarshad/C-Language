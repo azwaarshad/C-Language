{
 "cells": [
  {
   "cell_type": "markdown",
   "id": "b09d87da-d8b8-4efd-ba2b-d8c8ef2adff1",
   "metadata": {},
   "source": [
    "# HANGMAN"
   ]
  },
  {
   "cell_type": "code",
   "execution_count": 12,
   "id": "5439927e-fb0f-4dc3-bcc2-6e8c7488a17b",
   "metadata": {},
   "outputs": [
    {
     "name": "stdout",
     "output_type": "stream",
     "text": [
      "\u001b[1mWELCOME TO HANGMAN!\u001b[0m\n",
      "Please choose a category:\n",
      "1. animals\n",
      "2. cities\n",
      "3. colors\n",
      "4. countries\n",
      "5. fruits\n",
      "6. movies\n",
      "7. sports\n",
      "8. vegetables\n"
     ]
    },
    {
     "name": "stdin",
     "output_type": "stream",
     "text": [
      "Enter the number of the category:  4\n"
     ]
    },
    {
     "name": "stdout",
     "output_type": "stream",
     "text": [
      "\n",
      "Word: _ _ _ _ _ _\n",
      "Incorrect guesses: 0/6\n"
     ]
    },
    {
     "name": "stdin",
     "output_type": "stream",
     "text": [
      "Guess a letter:  a\n"
     ]
    },
    {
     "name": "stdout",
     "output_type": "stream",
     "text": [
      "Sorry, 'a' is not in the word.\n",
      "\n",
      "Word: _ _ _ _ _ _\n",
      "Incorrect guesses: 1/6\n"
     ]
    },
    {
     "name": "stdin",
     "output_type": "stream",
     "text": [
      "Guess a letter:  e\n"
     ]
    },
    {
     "name": "stdout",
     "output_type": "stream",
     "text": [
      "Good guess! 'e' is in the word.\n",
      "\n",
      "Word: _ e _ _ _ _\n",
      "Incorrect guesses: 1/6\n"
     ]
    },
    {
     "name": "stdin",
     "output_type": "stream",
     "text": [
      "Guess a letter:  o\n"
     ]
    },
    {
     "name": "stdout",
     "output_type": "stream",
     "text": [
      "Good guess! 'o' is in the word.\n",
      "\n",
      "Word: _ e _ _ _ o\n",
      "Incorrect guesses: 1/6\n"
     ]
    },
    {
     "name": "stdin",
     "output_type": "stream",
     "text": [
      "Guess a letter:  s\n"
     ]
    },
    {
     "name": "stdout",
     "output_type": "stream",
     "text": [
      "Sorry, 's' is not in the word.\n",
      "\n",
      "Word: _ e _ _ _ o\n",
      "Incorrect guesses: 2/6\n"
     ]
    },
    {
     "name": "stdin",
     "output_type": "stream",
     "text": [
      "Guess a letter:  i\n"
     ]
    },
    {
     "name": "stdout",
     "output_type": "stream",
     "text": [
      "Good guess! 'i' is in the word.\n",
      "\n",
      "Word: _ e _ i _ o\n",
      "Incorrect guesses: 2/6\n"
     ]
    },
    {
     "name": "stdin",
     "output_type": "stream",
     "text": [
      "Guess a letter:  t\n"
     ]
    },
    {
     "name": "stdout",
     "output_type": "stream",
     "text": [
      "Sorry, 't' is not in the word.\n",
      "\n",
      "Word: _ e _ i _ o\n",
      "Incorrect guesses: 3/6\n"
     ]
    },
    {
     "name": "stdin",
     "output_type": "stream",
     "text": [
      "Guess a letter:  h\n"
     ]
    },
    {
     "name": "stdout",
     "output_type": "stream",
     "text": [
      "Sorry, 'h' is not in the word.\n",
      "\n",
      "Word: _ e _ i _ o\n",
      "Incorrect guesses: 4/6\n"
     ]
    },
    {
     "name": "stdin",
     "output_type": "stream",
     "text": [
      "Guess a letter:  m\n"
     ]
    },
    {
     "name": "stdout",
     "output_type": "stream",
     "text": [
      "Good guess! 'm' is in the word.\n",
      "\n",
      "Word: m e _ i _ o\n",
      "Incorrect guesses: 4/6\n"
     ]
    },
    {
     "name": "stdin",
     "output_type": "stream",
     "text": [
      "Guess a letter:  n\n"
     ]
    },
    {
     "name": "stdout",
     "output_type": "stream",
     "text": [
      "Sorry, 'n' is not in the word.\n",
      "\n",
      "Word: m e _ i _ o\n",
      "Incorrect guesses: 5/6\n"
     ]
    },
    {
     "name": "stdin",
     "output_type": "stream",
     "text": [
      "Guess a letter:  x\n"
     ]
    },
    {
     "name": "stdout",
     "output_type": "stream",
     "text": [
      "Good guess! 'x' is in the word.\n",
      "\n",
      "Word: m e x i _ o\n",
      "Incorrect guesses: 5/6\n"
     ]
    },
    {
     "name": "stdin",
     "output_type": "stream",
     "text": [
      "Guess a letter:  c\n"
     ]
    },
    {
     "name": "stdout",
     "output_type": "stream",
     "text": [
      "Good guess! 'c' is in the word.\n",
      "\n",
      "Word: m e x i c o\n",
      "Incorrect guesses: 5/6\n",
      "\n",
      "Congratulations! You guessed the word 'mexico'!\n"
     ]
    }
   ],
   "source": [
    "import random\n",
    "\n",
    "def convert_to_lowercase(categories):\n",
    "    for category in categories:\n",
    "        categories[category] = [word.lower() for word in categories[category]]\n",
    "\n",
    "def select_random_word(category):\n",
    "    categories = {\n",
    "        'animals': [\"lion\", \"tiger\", \"elephant\", \"giraffe\", \"zebra\", \n",
    "    \"cheetah\", \"leopard\", \"bear\", \"wolf\", \"fox\", \n",
    "    \"rabbit\", \"deer\", \"kangaroo\", \"koala\", \"panda\", \n",
    "    \"monkey\", \"gorilla\", \"chimpanzee\", \"dolphin\", \"whale\", \n",
    "    \"shark\", \"octopus\", \"penguin\", \"seal\", \"walrus\", \n",
    "    \"eagle\", \"owl\", \"sparrow\", \"parrot\", \"peacock\", \n",
    "    \"crocodile\", \"alligator\", \"turtle\", \"frog\", \"snake\", \n",
    "    \"lizard\", \"hamster\", \"rat\", \"mouse\", \"bat\", \n",
    "    \"ant\", \"bee\", \"butterfly\", \"spider\", \"scorpion\", \n",
    "    \"horse\", \"cow\", \"sheep\", \"goat\", \"camel\"],\n",
    "        \n",
    "        'cities': [\"new york\", \"london\", \"tokyo\", \"paris\", \"berlin\", \n",
    "    \"sydney\", \"dubai\", \"rome\", \"moscow\", \"toronto\", \n",
    "    \"mumbai\", \"shanghai\", \"singapore\", \"barcelona\", \"istanbul\", \n",
    "    \"los angeles\", \"san francisco\", \"mexico city\", \"rio de janeiro\", \"buenos aires\", \n",
    "    \"cairo\", \"beijing\", \"hong kong\", \"seoul\", \"bangkok\", \n",
    "    \"vienna\", \"amsterdam\", \"prague\", \"dublin\", \"stockholm\", \n",
    "    \"oslo\", \"helsinki\", \"copenhagen\", \"lisbon\", \"athens\", \n",
    "    \"cape town\", \"nairobi\", \"lagos\", \"kuala lumpur\", \"jakarta\", \n",
    "    \"brussels\", \"zurich\", \"geneva\", \"warsaw\", \"budapest\", \n",
    "    \"manila\", \"vancouver\", \"melbourne\", \"edinburgh\", \"johannesburg\"],\n",
    "        \n",
    "        'colors': [\"red\", \"blue\", \"green\", \"yellow\", \"orange\", \n",
    "    \"purple\", \"pink\", \"brown\", \"black\", \"white\", \n",
    "    \"gray\", \"violet\", \"indigo\", \"cyan\", \"magenta\", \n",
    "    \"beige\", \"turquoise\", \"teal\", \"navy\", \"gold\", \n",
    "    \"silver\", \"bronze\", \"lime\", \"peach\", \"lavender\", \n",
    "    \"maroon\", \"crimson\", \"amber\", \"chartreuse\", \"coral\", \n",
    "    \"salmon\", \"emerald\", \"azure\", \"mint\", \"plum\", \n",
    "    \"ochre\", \"ruby\", \"topaz\", \"ivory\", \"sapphire\", \n",
    "    \"jade\", \"pearl\", \"blush\", \"apricot\", \"alabaster\", \n",
    "    \"ivory\", \"snow\", \"sky blue\", \"forest green\", \"rose\"],\n",
    "        \n",
    "        'countries': [\"canada\", \"mexico\", \"brazil\", \"argentina\", \n",
    "    \"uk\", \"france\", \"germany\", \"spain\", \"italy\", \n",
    "    \"india\", \"china\", \"japan\", \"australia\", \"south korea\", \n",
    "    \"russia\", \"south africa\", \"egypt\", \"nigeria\", \"kenya\", \n",
    "    \"nigeria\", \"colombia\", \"chile\", \"peru\", \"saudi arabia\", \n",
    "    \"iran\", \"turkey\", \"israel\", \"singapore\", \"new zealand\", \n",
    "    \"sweden\", \"norway\", \"finland\", \"denmark\", \"belgium\", \n",
    "    \"netherlands\", \"switzerland\", \"poland\", \"portugal\", \"austria\", \n",
    "    \"greece\", \"romania\", \"czech republic\", \"hungary\", \"ukraine\", \n",
    "    \"vietnam\", \"philippines\", \"malaysia\", \"thailand\", \"bangladesh\"],\n",
    "        \n",
    "        'fruits': [\"apple\", \"banana\", \"orange\", \"mango\", \"grapes\", \n",
    "    \"pear\", \"peach\", \"cherry\", \"pineapple\", \"strawberry\", \n",
    "    \"blueberry\", \"blackberry\", \"raspberry\", \"kiwi\", \"watermelon\", \n",
    "    \"melon\", \"plum\", \"apricot\", \"papaya\", \"pomegranate\", \n",
    "    \"lemon\", \"lime\", \"coconut\", \"fig\", \"date\", \n",
    "    \"nectarine\", \"tangerine\", \"mandarin\", \"dragon fruit\", \"passion fruit\", \n",
    "    \"jackfruit\", \"guava\", \"lychee\", \"longan\", \"star fruit\", \n",
    "    \"cranberry\", \"gooseberry\", \"currant\", \"persimmon\", \"breadfruit\", \n",
    "    \"avocado\", \"cantaloupe\", \"elderberry\", \"chikoo\", \"rhubarb\", \n",
    "    \"soursop\", \"kiwifruit\", \"carambola\", \"satsuma\", \"blood orange\"],\n",
    "        \n",
    "        'movies': [\"dilwale dulhania le jayenge\", \"kabhi khushi kabhie gham\", \"3 idiots\", \"titanic\", \"inception\", \n",
    "    \"the dark knight\", \"lagaan\", \"dangal\", \"taare zameen par\", \"sholay\", \n",
    "    \"jaws\", \"the godfather\", \"forrest gump\", \"the shawshank redemption\", \"rocky\", \n",
    "    \"pulp fiction\", \"memento\", \"gladiator\", \"interstellar\", \"the lion king\", \n",
    "    \"f&f: fast and furious\", \"mera naam joker\", \"pakeezah\", \"mother india\", \"chakde india\", \n",
    "    \"bajrangi bhaijaan\", \"kuch kuch hota hai\", \"gully boy\", \"dil chahta hai\", \"piku\", \n",
    "    \"zindagi na milegi dobara\", \"the godfather part 2\", \"goodfellas\", \"scarface\", \"the silence of the lambs\", \n",
    "    \"veer zaara\", \"the pursuit of happiness\", \"the notebook\", \"hidden figures\", \"tanu weds manu\", \n",
    "    \"hamari adhuri kahani\", \"khuda ke liye\", \"bol\", \"khamoshi\", \"dil se\", \n",
    "    \"the social network\", \"the wolf of wall street\", \"batman begins\", \"spider man\", \"bajirao mastani\"],\n",
    "        \n",
    "        'sports': [\"soccer\", \"basketball\", \"cricket\", \"rugby\", \"tennis\", \n",
    "    \"baseball\", \"volleyball\", \"hockey\", \"golf\", \"swimming\", \n",
    "    \"badminton\", \"boxing\", \"wrestling\", \"mma\", \"athletics\", \n",
    "    \"cycling\", \"skateboarding\", \"skiing\", \"snowboarding\", \"table tennis\", \n",
    "    \"football\", \"karate\", \"judo\", \"taekwondo\", \"fencing\", \n",
    "    \"archery\", \"sailing\", \"rowing\", \"handball\", \"water polo\", \n",
    "    \"surfing\", \"gymnastics\", \"darts\", \"equestrian\", \"chess\", \n",
    "    \"squash\", \"lacrosse\", \"motor racing\", \"e-sports\", \"billiards\", \n",
    "    \"pool\", \"bowling\", \"weightlifting\", \"disc golf\", \"polo\", \n",
    "    \"cricket\", \"lacrosse\", \"water skiing\", \"rock climbing\", \"kickboxing\"],\n",
    "        \n",
    "        'vegetables': [\"carrot\", \"broccoli\", \"spinach\", \"potato\", \"tomato\", \n",
    "    \"cucumber\", \"onion\", \"garlic\", \"cauliflower\", \"peas\", \n",
    "    \"corn\", \"bell pepper\", \"lettuce\", \"cabbage\", \"zucchini\", \n",
    "    \"eggplant\", \"pumpkin\", \"sweet potato\", \"radish\", \"beetroot\", \n",
    "    \"asparagus\", \"kale\", \"brussels sprouts\", \"chard\", \"artichoke\", \n",
    "    \"celery\", \"turnip\", \"parsnip\", \"leek\", \"ginger\", \n",
    "    \"okra\", \"mushroom\", \"green beans\", \"chili\", \"aubergine\", \n",
    "    \"bamboo shoots\", \"fennel\", \"rutabaga\", \"yam\", \"mustard greens\", \n",
    "    \"arugula\", \"watercress\", \"daikon\", \"scallion\", \"bok choy\", \n",
    "    \"endive\", \"collard greens\", \"snow peas\", \"cress\", \"sweet corn\"]\n",
    "    }\n",
    "    \n",
    "    if category not in categories:\n",
    "        raise ValueError(\"Category not found.\")\n",
    "    return random.choice(categories[category])\n",
    "\n",
    "def display_word(word, guessed_letters):\n",
    "    return ' '.join([letter if letter in guessed_letters else '_' for letter in word])\n",
    "\n",
    "def hangman():\n",
    "    categories = {\n",
    "        'animals': [\"lion\", \"tiger\", \"elephant\", \"giraffe\", \"zebra\", \n",
    "    \"cheetah\", \"leopard\", \"bear\", \"wolf\", \"fox\", \n",
    "    \"rabbit\", \"deer\", \"kangaroo\", \"koala\", \"panda\", \n",
    "    \"monkey\", \"gorilla\", \"chimpanzee\", \"dolphin\", \"whale\", \n",
    "    \"shark\", \"octopus\", \"penguin\", \"seal\", \"walrus\", \n",
    "    \"eagle\", \"owl\", \"sparrow\", \"parrot\", \"peacock\", \n",
    "    \"crocodile\", \"alligator\", \"turtle\", \"frog\", \"snake\", \n",
    "    \"lizard\", \"hamster\", \"rat\", \"mouse\", \"bat\", \n",
    "    \"ant\", \"bee\", \"butterfly\", \"spider\", \"scorpion\", \n",
    "    \"horse\", \"cow\", \"sheep\", \"goat\", \"camel\"],\n",
    "        \n",
    "        'cities': [\"new york\", \"london\", \"tokyo\", \"paris\", \"berlin\", \n",
    "    \"sydney\", \"dubai\", \"rome\", \"moscow\", \"toronto\", \n",
    "    \"mumbai\", \"shanghai\", \"singapore\", \"barcelona\", \"istanbul\", \n",
    "    \"los angeles\", \"san francisco\", \"mexico city\", \"rio de janeiro\", \"buenos aires\", \n",
    "    \"cairo\", \"beijing\", \"hong kong\", \"seoul\", \"bangkok\", \n",
    "    \"vienna\", \"amsterdam\", \"prague\", \"dublin\", \"stockholm\", \n",
    "    \"oslo\", \"helsinki\", \"copenhagen\", \"lisbon\", \"athens\", \n",
    "    \"cape town\", \"nairobi\", \"lagos\", \"kuala lumpur\", \"jakarta\", \n",
    "    \"brussels\", \"zurich\", \"geneva\", \"warsaw\", \"budapest\", \n",
    "    \"manila\", \"vancouver\", \"melbourne\", \"edinburgh\", \"johannesburg\"],\n",
    "        \n",
    "        'colors': [\"red\", \"blue\", \"green\", \"yellow\", \"orange\", \n",
    "    \"purple\", \"pink\", \"brown\", \"black\", \"white\", \n",
    "    \"gray\", \"violet\", \"indigo\", \"cyan\", \"magenta\", \n",
    "    \"beige\", \"turquoise\", \"teal\", \"navy\", \"gold\", \n",
    "    \"silver\", \"bronze\", \"lime\", \"peach\", \"lavender\", \n",
    "    \"maroon\", \"crimson\", \"amber\", \"chartreuse\", \"coral\", \n",
    "    \"salmon\", \"emerald\", \"azure\", \"mint\", \"plum\", \n",
    "    \"ochre\", \"ruby\", \"topaz\", \"ivory\", \"sapphire\", \n",
    "    \"jade\", \"pearl\", \"blush\", \"apricot\", \"alabaster\", \n",
    "    \"ivory\", \"snow\", \"sky blue\", \"forest green\", \"rose\"],\n",
    "        \n",
    "        'countries': [\"canada\", \"mexico\", \"brazil\", \"argentina\", \n",
    "    \"uk\", \"france\", \"germany\", \"spain\", \"italy\", \n",
    "    \"india\", \"china\", \"japan\", \"australia\", \"south korea\", \n",
    "    \"russia\", \"south africa\", \"egypt\", \"nigeria\", \"kenya\", \n",
    "    \"nigeria\", \"colombia\", \"chile\", \"peru\", \"saudi arabia\", \n",
    "    \"iran\", \"turkey\", \"israel\", \"singapore\", \"new zealand\", \n",
    "    \"sweden\", \"norway\", \"finland\", \"denmark\", \"belgium\", \n",
    "    \"netherlands\", \"switzerland\", \"poland\", \"portugal\", \"austria\", \n",
    "    \"greece\", \"romania\", \"czech republic\", \"hungary\", \"ukraine\", \n",
    "    \"vietnam\", \"philippines\", \"malaysia\", \"thailand\", \"bangladesh\"],\n",
    "        \n",
    "        'fruits': [\"apple\", \"banana\", \"orange\", \"mango\", \"grapes\", \n",
    "    \"pear\", \"peach\", \"cherry\", \"pineapple\", \"strawberry\", \n",
    "    \"blueberry\", \"blackberry\", \"raspberry\", \"kiwi\", \"watermelon\", \n",
    "    \"melon\", \"plum\", \"apricot\", \"papaya\", \"pomegranate\", \n",
    "    \"lemon\", \"lime\", \"coconut\", \"fig\", \"date\", \n",
    "    \"nectarine\", \"tangerine\", \"mandarin\", \"dragon fruit\", \"passion fruit\", \n",
    "    \"jackfruit\", \"guava\", \"lychee\", \"longan\", \"star fruit\", \n",
    "    \"cranberry\", \"gooseberry\", \"currant\", \"persimmon\", \"breadfruit\", \n",
    "    \"avocado\", \"cantaloupe\", \"elderberry\", \"chikoo\", \"rhubarb\", \n",
    "    \"soursop\", \"kiwifruit\", \"carambola\", \"satsuma\"],\n",
    "        \n",
    "        'movies': [\"dilwale dulhania le jayenge\", \"kabhi khushi kabhie gham\", \"3 idiots\", \"titanic\", \"inception\", \n",
    "    \"the dark knight\", \"lagaan\", \"dangal\", \"taare zameen par\", \"sholay\", \n",
    "    \"jaws\", \"the godfather\", \"forrest gump\", \"the shawshank redemption\", \"rocky\", \n",
    "    \"pulp fiction\", \"memento\", \"gladiator\", \"interstellar\", \"the lion king\", \n",
    "    \"f&f: fast and furious\", \"mera naam joker\", \"pakeezah\", \"mother india\", \"chakde india\", \n",
    "    \"bajrangi bhaijaan\", \"kuch kuch hota hai\", \"gully boy\", \"dil chahta hai\", \"piku\", \n",
    "    \"zindagi na milegi dobara\", \"the godfather part 2\", \"goodfellas\", \"scarface\", \"the silence of the lambs\", \n",
    "    \"veer zaara\", \"the pursuit of happiness\", \"the notebook\", \"hidden figures\", \"tanu weds manu\", \n",
    "    \"hamari adhuri kahani\", \"khuda ke liye\", \"bol\", \"khamoshi\", \"dil se\", \n",
    "    \"the social network\", \"the wolf of wall street\", \"batman begins\", \"spider man\", \"bajirao mastani\"],\n",
    "        \n",
    "        'sports': [\"soccer\", \"basketball\", \"cricket\", \"rugby\", \"tennis\", \n",
    "    \"baseball\", \"volleyball\", \"hockey\", \"golf\", \"swimming\", \n",
    "    \"badminton\", \"boxing\", \"wrestling\", \"mma\", \"athletics\", \n",
    "    \"cycling\", \"skateboarding\", \"skiing\", \"snowboarding\", \"table tennis\", \n",
    "    \"football\", \"karate\", \"judo\", \"taekwondo\", \"fencing\", \n",
    "    \"archery\", \"sailing\", \"rowing\", \"handball\", \"water polo\", \n",
    "    \"surfing\", \"gymnastics\", \"darts\", \"equestrian\", \"chess\", \n",
    "    \"squash\", \"lacrosse\", \"motor racing\", \"e-sports\", \"billiards\", \n",
    "    \"pool\", \"bowling\", \"weightlifting\", \"disc golf\", \"polo\", \n",
    "    \"cricket\", \"lacrosse\", \"water skiing\", \"rock climbing\", \"kickboxing\"],\n",
    "        \n",
    "        'vegetables': [\"carrot\", \"broccoli\", \"spinach\", \"potato\", \"tomato\", \n",
    "    \"cucumber\", \"onion\", \"garlic\", \"cauliflower\", \"peas\", \n",
    "    \"corn\", \"bell pepper\", \"lettuce\", \"cabbage\", \"zucchini\", \n",
    "    \"eggplant\", \"pumpkin\", \"sweet potato\", \"radish\", \"beetroot\", \n",
    "    \"asparagus\", \"kale\", \"brussels sprouts\", \"chard\", \"artichoke\", \n",
    "    \"celery\", \"turnip\", \"parsnip\", \"leek\", \"ginger\", \n",
    "    \"okra\", \"mushroom\", \"green beans\", \"chili\", \"aubergine\", \n",
    "    \"bamboo shoots\", \"fennel\", \"rutabaga\", \"yam\", \"mustard greens\", \n",
    "    \"arugula\", \"watercress\", \"daikon\", \"scallion\", \"bok choy\", \n",
    "    \"endive\", \"collard greens\", \"snow peas\", \"cress\", \"sweet corn\"]\n",
    "    }\n",
    "\n",
    "    sentence = \"Welcome to Hangman!\"\n",
    "    bold_sentence = \"\\033[1m\" + sentence.upper() + \"\\033[0m\"\n",
    "    print(bold_sentence)\n",
    "\n",
    "    print(\"Please choose a category:\")\n",
    "    \n",
    "    for idx, category in enumerate(categories.keys(), start=1):\n",
    "        print(f\"{idx}. {category}\")\n",
    "    \n",
    "    try:\n",
    "        choice = int(input(\"Enter the number of the category: \"))\n",
    "        if choice < 1 or choice > len(categories):\n",
    "            print(\"Invalid choice. Please choose a number from the list.\")\n",
    "            return\n",
    "        category = list(categories.keys())[choice - 1]\n",
    "    except ValueError:\n",
    "        print(\"Invalid input. Please enter a number.\")\n",
    "        return\n",
    "\n",
    "    word = select_random_word(category)\n",
    "    guessed_letters = set()\n",
    "    incorrect_guesses = 0\n",
    "    max_incorrect_guesses = 6\n",
    "\n",
    "    while incorrect_guesses < max_incorrect_guesses:\n",
    "        current_display = display_word(word, guessed_letters)\n",
    "        print(f\"\\nWord: {current_display}\")\n",
    "        print(f\"Incorrect guesses: {incorrect_guesses}/{max_incorrect_guesses}\")\n",
    "\n",
    "        if '_' not in current_display:\n",
    "            print(f\"\\nCongratulations! You guessed the word '{word}'!\")\n",
    "            break\n",
    "\n",
    "        guess = input(\"Guess a letter: \").lower()\n",
    "\n",
    "        if len(guess) != 1 or not guess.isalpha():\n",
    "            print(\"Please guess a single letter.\")\n",
    "            continue\n",
    "\n",
    "        if guess in guessed_letters:\n",
    "            print(\"You have already guessed that letter.\")\n",
    "            continue\n",
    "\n",
    "        guessed_letters.add(guess)\n",
    "\n",
    "        if guess in word:\n",
    "            print(f\"Good guess! '{guess}' is in the word.\")\n",
    "        else:\n",
    "            print(f\"Sorry, '{guess}' is not in the word.\")\n",
    "            incorrect_guesses += 1\n",
    "\n",
    "    if incorrect_guesses == max_incorrect_guesses:\n",
    "        print(f\"\\nGame over! The word was '{word}'.\")\n",
    "\n",
    "if __name__ == \"__main__\":\n",
    "    hangman()"
   ]
  },
  {
   "cell_type": "code",
   "execution_count": null,
   "id": "6cd88c94-fabe-4b31-99b8-f68d59e48447",
   "metadata": {},
   "outputs": [],
   "source": []
  }
 ],
 "metadata": {
  "kernelspec": {
   "display_name": "Python 3 (ipykernel)",
   "language": "python",
   "name": "python3"
  },
  "language_info": {
   "codemirror_mode": {
    "name": "ipython",
    "version": 3
   },
   "file_extension": ".py",
   "mimetype": "text/x-python",
   "name": "python",
   "nbconvert_exporter": "python",
   "pygments_lexer": "ipython3",
   "version": "3.12.4"
  }
 },
 "nbformat": 4,
 "nbformat_minor": 5
}
